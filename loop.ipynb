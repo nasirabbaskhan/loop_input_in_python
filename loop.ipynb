{
 "cells": [
  {
   "cell_type": "markdown",
   "metadata": {},
   "source": [
    "# loop and Input from user\n",
    " * while loop\n",
    " * for loop\n",
    " * controles\n",
    "    * braek\n",
    "    * continue \n",
    "    * pass\n",
    "\n",
    "* input with input function \n",
    "* input from console\n",
    " \n",
    " ## Loop working on iterative data type like:\n",
    "  * string\n",
    "  * list\n",
    "  * tuple\n",
    "  * set\n",
    "  * dictionary\n"
   ]
  },
  {
   "cell_type": "code",
   "execution_count": 6,
   "metadata": {},
   "outputs": [
    {
     "name": "stdout",
     "output_type": "stream",
     "text": [
      "p\n",
      "a\n",
      "k\n",
      "i\n",
      "s\n",
      "t\n",
      "a\n",
      "n\n"
     ]
    }
   ],
   "source": [
    "l1 :str = \"pakistan\" # iteration on string\n",
    "\n",
    "for i in l1:\n",
    "    print(i)"
   ]
  },
  {
   "cell_type": "code",
   "execution_count": 1,
   "metadata": {},
   "outputs": [
    {
     "name": "stdout",
     "output_type": "stream",
     "text": [
      "[1, 2, 3, 4, 5, 6, 7]\n"
     ]
    }
   ],
   "source": [
    "l1 :list[int] = [1,2,3,4,5,6,7]# iteration on list\n",
    "print(l1)"
   ]
  },
  {
   "cell_type": "code",
   "execution_count": 2,
   "metadata": {},
   "outputs": [
    {
     "name": "stdout",
     "output_type": "stream",
     "text": [
      "1\n",
      "2\n",
      "3\n",
      "4\n",
      "5\n",
      "6\n",
      "7\n"
     ]
    }
   ],
   "source": [
    "l1 :list[int] = [1,2,3,4,5,6,7]\n",
    "\n",
    "for i in l1:\n",
    "    print(i)"
   ]
  },
  {
   "cell_type": "code",
   "execution_count": 3,
   "metadata": {},
   "outputs": [
    {
     "data": {
      "text/plain": [
       "[1, 2, 3, 4, 5, 6, 7]"
      ]
     },
     "execution_count": 3,
     "metadata": {},
     "output_type": "execute_result"
    }
   ],
   "source": [
    "l1 :list[int] = [1,2,3,4,5,6,7] \n",
    "\n",
    "[i for i in l1] # comprehensive"
   ]
  },
  {
   "cell_type": "code",
   "execution_count": 5,
   "metadata": {},
   "outputs": [
    {
     "name": "stdout",
     "output_type": "stream",
     "text": [
      "1\n",
      "2\n",
      "3\n",
      "4\n",
      "5\n",
      "6\n",
      "7\n"
     ]
    }
   ],
   "source": [
    "l1 :tuple[int] = (1,2,3,4,5,6,7) # iteration on tuple\n",
    "\n",
    "for i in l1:\n",
    "    print(i)"
   ]
  },
  {
   "cell_type": "code",
   "execution_count": 22,
   "metadata": {},
   "outputs": [
    {
     "name": "stdout",
     "output_type": "stream",
     "text": [
      "1\n",
      "2\n",
      "3\n",
      "4\n",
      "5\n",
      "6\n",
      "7\n"
     ]
    }
   ],
   "source": [
    "l1 :set[int] = {1,2,3,4,5,6,7} # iteration on set\n",
    "\n",
    "for s in l1:\n",
    "    print(s)"
   ]
  },
  {
   "cell_type": "code",
   "execution_count": 14,
   "metadata": {},
   "outputs": [
    {
     "name": "stdout",
     "output_type": "stream",
     "text": [
      "name\n",
      "fname\n",
      "education\n"
     ]
    }
   ],
   "source": [
    "# iteration on dictionary\n",
    "l1 :dict[str,str] = { \n",
    "                     \"name\":\"nasir\",\n",
    "                     \"fname\":\"manzoor hussain\",\n",
    "                     \"education\":\"Master in Data Science\"\n",
    "    \n",
    "                   } \n",
    "\n",
    "for k in l1:\n",
    "    print(k)"
   ]
  },
  {
   "cell_type": "code",
   "execution_count": 13,
   "metadata": {},
   "outputs": [
    {
     "name": "stdout",
     "output_type": "stream",
     "text": [
      "name nasir\n",
      "fname manzoor hussain\n",
      "education Master in Data Science\n"
     ]
    }
   ],
   "source": [
    "l1 :dict[str,str] = { \n",
    "                     \"name\":\"nasir\",\n",
    "                     \"fname\":\"manzoor hussain\",\n",
    "                     \"education\":\"Master in Data Science\"\n",
    "    \n",
    "                   } \n",
    "\n",
    "for k in l1:\n",
    "    print(k,l1[k])"
   ]
  },
  {
   "cell_type": "code",
   "execution_count": 11,
   "metadata": {},
   "outputs": [
    {
     "name": "stdout",
     "output_type": "stream",
     "text": [
      "name nasir\n",
      "fname manzoor hussain\n",
      "education Master in Data Science\n"
     ]
    }
   ],
   "source": [
    "l1 :dict[str,str] = { \n",
    "                     \"name\":\"nasir\",\n",
    "                     \"fname\":\"manzoor hussain\",\n",
    "                     \"education\":\"Master in Data Science\"\n",
    "    \n",
    "                   } \n",
    "\n",
    "for k,v in l1.items():\n",
    "    print(k,v)"
   ]
  },
  {
   "cell_type": "code",
   "execution_count": 25,
   "metadata": {},
   "outputs": [
    {
     "data": {
      "text/plain": [
       "[('Nasir', 'Manzoor Hussain', 22),\n",
       " ('Aneela', 'Tasawer Abbas', 17),\n",
       " ('Qasim', 'M aslam', 35)]"
      ]
     },
     "execution_count": 25,
     "metadata": {},
     "output_type": "execute_result"
    }
   ],
   "source": [
    "# using zip function\n",
    "names :list[str] = [\"Nasir\", \"Aneela\", \"Qasim\"]\n",
    "fname :list[str] = [\"Manzoor Hussain\", \"Tasawer Abbas\", \"M aslam\"]\n",
    "age :list[int] = [22, 17, 35]\n",
    "\n",
    "list(zip(names,fname,age))"
   ]
  },
  {
   "cell_type": "code",
   "execution_count": 26,
   "metadata": {},
   "outputs": [
    {
     "name": "stdout",
     "output_type": "stream",
     "text": [
      "Welcome of Nasir s/o Manzoor Hussain at 22 year old\n",
      "Welcome of Aneela s/o Tasawer Abbas at 17 year old\n",
      "Welcome of Qasim s/o M aslam at 35 year old\n"
     ]
    }
   ],
   "source": [
    "# iteration using zip function\n",
    "names :list[str] = [\"Nasir\", \"Aneela\", \"Qasim\"]\n",
    "fname :list[str] = [\"Manzoor Hussain\", \"Tasawer Abbas\", \"M aslam\"]\n",
    "age :list[int] = [22, 17, 35]\n",
    "\n",
    "for name,fn,ag in zip(names,fname,age):\n",
    "    print(f\"Welcome of {name} s/o {fn} at {ag} year old\")"
   ]
  },
  {
   "cell_type": "markdown",
   "metadata": {},
   "source": [
    "# input from user\n",
    "* input function\n",
    "\n",
    "    * default type= string\n",
    "\n",
    "* sys.argv (for console input in only py file)\n",
    "\n",
    "    * defalt type= list[str]"
   ]
  },
  {
   "cell_type": "code",
   "execution_count": 21,
   "metadata": {},
   "outputs": [
    {
     "name": "stdout",
     "output_type": "stream",
     "text": [
      "<class 'str'>\n",
      "Wellcome Dear User Mr/Miss Aneela Nasir!\n"
     ]
    }
   ],
   "source": [
    "# input function\n",
    "\n",
    "name :str= input(\"Enter Your Name! \\t\")\n",
    "print(type(name))\n",
    "print(f\"Wellcome Dear User Mr/Miss {name}!\")"
   ]
  },
  {
   "cell_type": "markdown",
   "metadata": {},
   "source": [
    "# While Loop\n"
   ]
  },
  {
   "cell_type": "code",
   "execution_count": 37,
   "metadata": {},
   "outputs": [
    {
     "name": "stdout",
     "output_type": "stream",
     "text": [
      "1\n",
      "2\n",
      "3\n",
      "4\n",
      "5\n",
      "6\n",
      "7\n",
      "8\n",
      "9\n",
      "10\n"
     ]
    }
   ],
   "source": [
    "n :int = 1\n",
    "while (n<=10):\n",
    "    print(n)\n",
    "    n += 1"
   ]
  },
  {
   "cell_type": "code",
   "execution_count": 39,
   "metadata": {},
   "outputs": [
    {
     "name": "stdout",
     "output_type": "stream",
     "text": [
      "50\n",
      "49\n",
      "48\n",
      "47\n",
      "46\n",
      "45\n",
      "44\n",
      "43\n",
      "42\n",
      "41\n",
      "40\n"
     ]
    }
   ],
   "source": [
    "n :int = 50\n",
    "while (n>=40):\n",
    "    print(n)\n",
    "    n -= 1"
   ]
  },
  {
   "cell_type": "code",
   "execution_count": 70,
   "metadata": {},
   "outputs": [
    {
     "name": "stdout",
     "output_type": "stream",
     "text": [
      "1\n"
     ]
    }
   ],
   "source": [
    "a= 1\n",
    "while a: # if a has non 0 value the its mean it retun True\n",
    "    print(a)\n",
    "    break"
   ]
  },
  {
   "cell_type": "code",
   "execution_count": 73,
   "metadata": {},
   "outputs": [],
   "source": [
    "a= 0\n",
    "while a: # if a has  0 value the its mean it retun false\n",
    "    print(a)\n",
    "    break"
   ]
  },
  {
   "cell_type": "code",
   "execution_count": 74,
   "metadata": {},
   "outputs": [
    {
     "name": "stdout",
     "output_type": "stream",
     "text": [
      "4\n",
      "3\n",
      "2\n",
      "1\n"
     ]
    }
   ],
   "source": [
    "data :list[int] = [1,2,3,4]\n",
    "while data:\n",
    "    a= data.pop()\n",
    "    print(a)"
   ]
  },
  {
   "cell_type": "code",
   "execution_count": 33,
   "metadata": {},
   "outputs": [
    {
     "name": "stdout",
     "output_type": "stream",
     "text": [
      "Current Number is : 1\n",
      "Current Number is : 2\n",
      "Current Number is : 3\n",
      "Current Number is : 4\n",
      "Current Number is : 5\n",
      "Current Number is : 6\n",
      "Current Number is : 7\n",
      "Current Number is : 8\n",
      "Current Number is : 9\n"
     ]
    }
   ],
   "source": [
    "flag : bool = True\n",
    "\n",
    "current_number :int = 1\n",
    "\n",
    "while flag:\n",
    "    print(f\"Current Number is : {current_number}\")\n",
    "    current_number += 1\n",
    "    if current_number==10:\n",
    "        flag= False\n",
    "   "
   ]
  },
  {
   "cell_type": "code",
   "execution_count": 41,
   "metadata": {},
   "outputs": [
    {
     "name": "stdout",
     "output_type": "stream",
     "text": [
      "Current Number is : 100\n",
      "Current Number is : 200\n",
      "Current Number is : 300\n",
      "Current Number is : 400\n",
      "Current Number is : 500\n",
      "Current Number is : 600\n"
     ]
    }
   ],
   "source": [
    "l1 :list[int] = [100,200,300,400,500,600]\n",
    "\n",
    "index :int = 0\n",
    "\n",
    "while index<len(l1):\n",
    "    print(f\"Current Number is : {l1[index]}\")\n",
    "    index += 1\n",
    "   "
   ]
  },
  {
   "cell_type": "code",
   "execution_count": 45,
   "metadata": {},
   "outputs": [
    {
     "name": "stdout",
     "output_type": "stream",
     "text": [
      "Write exit , stop or close to stop the programm\n",
      "Write exit , stop or close to stop the programm\n",
      "Write exit , stop or close to stop the programm\n",
      "Write exit , stop or close to stop the programm\n",
      "[{'name': 'nasir', 'education': 'BS IT'}, {'name': 'Qasim', 'education': 'Master in Data Science'}, {'name': 'Aneela', 'education': '10th'}]\n"
     ]
    }
   ],
   "source": [
    "data:list[str] = []\n",
    "\n",
    "flag:bool = True\n",
    "close_program:list[str] = [\"stop\", \"close\", \"exit\", \"quite\"]\n",
    "\n",
    "while flag:\n",
    "    print(\"Write exit , stop or close to stop the programm\")\n",
    "    name:str= input(\"Please enter your Name \\t\")\n",
    "    education:str= input(\"Please enter your education \\t\")\n",
    "    \n",
    "    if (name in close_program) or (education in close_program):\n",
    "        flag= False\n",
    "        break\n",
    "    data.append({\n",
    "        \"name\":name,\n",
    "        \"education\":education\n",
    "    })\n",
    "print(data)\n",
    "        "
   ]
  },
  {
   "cell_type": "code",
   "execution_count": 64,
   "metadata": {},
   "outputs": [
    {
     "name": "stdout",
     "output_type": "stream",
     "text": [
      "['dog', 'cat', 'dog', 'goldfish', 'cat', 'rabbit', 'cat']\n",
      "['dog', 'dog', 'goldfish', 'rabbit']\n"
     ]
    }
   ],
   "source": [
    "pets : list[str] = ['dog','cat', 'dog','goldfish','cat','rabbit','cat']\n",
    "print(pets)\n",
    "while 'cat'in pets:\n",
    "    pets.remove('cat')\n",
    "print(pets)\n"
   ]
  },
  {
   "cell_type": "code",
   "execution_count": 58,
   "metadata": {},
   "outputs": [
    {
     "name": "stdout",
     "output_type": "stream",
     "text": [
      "2\n",
      "4\n",
      "6\n",
      "8\n",
      "10\n"
     ]
    }
   ],
   "source": [
    "# extrect even number\n",
    "\n",
    "data :list[int] = [1,2,3,4,5,6,7,8,9,10]\n",
    "\n",
    "for i in data:\n",
    "    if (i%2==0):\n",
    "        print(i)"
   ]
  },
  {
   "cell_type": "code",
   "execution_count": 60,
   "metadata": {},
   "outputs": [
    {
     "data": {
      "text/plain": [
       "[2, 4, 6, 8, 10]"
      ]
     },
     "execution_count": 60,
     "metadata": {},
     "output_type": "execute_result"
    }
   ],
   "source": [
    "# extrect even number\n",
    "\n",
    "data :list[int] = [1,2,3,4,5,6,7,8,9,10]\n",
    "\n",
    "[i for i in data if i%2==0 ] # comrehensive\n"
   ]
  },
  {
   "cell_type": "code",
   "execution_count": 59,
   "metadata": {},
   "outputs": [
    {
     "name": "stdout",
     "output_type": "stream",
     "text": [
      "1\n",
      "3\n",
      "5\n",
      "7\n",
      "9\n"
     ]
    }
   ],
   "source": [
    "# extrect odd number\n",
    "\n",
    "data :list[int] = [1,2,3,4,5,6,7,8,9,10]\n",
    "\n",
    "for i in data:\n",
    "    if (i%2 !=0):\n",
    "        print(i)"
   ]
  },
  {
   "cell_type": "code",
   "execution_count": 61,
   "metadata": {},
   "outputs": [
    {
     "data": {
      "text/plain": [
       "[1, 3, 5, 7, 9]"
      ]
     },
     "execution_count": 61,
     "metadata": {},
     "output_type": "execute_result"
    }
   ],
   "source": [
    "# extrect odd number\n",
    "\n",
    "data :list[int] = [1,2,3,4,5,6,7,8,9,10]\n",
    "\n",
    "[i for i in data if i%2!=0 ] # comrehensive"
   ]
  },
  {
   "cell_type": "markdown",
   "metadata": {},
   "source": [
    "# controls\n",
    "* break\n",
    "\n",
    "* continue \n",
    "    * skip the value\n",
    "* pass\n",
    "    * pass use when you do not define body logic"
   ]
  },
  {
   "cell_type": "code",
   "execution_count": 47,
   "metadata": {},
   "outputs": [
    {
     "name": "stdout",
     "output_type": "stream",
     "text": [
      "1\n",
      "2\n",
      "3\n",
      "4\n",
      "5\n"
     ]
    }
   ],
   "source": [
    "# break statement\n",
    "for i in range(1,11):\n",
    "    print(i)\n",
    "    if (i==5):\n",
    "        break"
   ]
  },
  {
   "cell_type": "code",
   "execution_count": 50,
   "metadata": {},
   "outputs": [
    {
     "name": "stdout",
     "output_type": "stream",
     "text": [
      "1\n",
      "2\n",
      "3\n",
      "4\n",
      "6\n",
      "7\n",
      "8\n",
      "9\n",
      "10\n"
     ]
    }
   ],
   "source": [
    "# continue statement\n",
    "for i in range(1,11):\n",
    "    \n",
    "    if (i==5):\n",
    "        continue # skipping the iteration when i is 5\n",
    "    print(i)"
   ]
  },
  {
   "cell_type": "code",
   "execution_count": 66,
   "metadata": {},
   "outputs": [
    {
     "name": "stdout",
     "output_type": "stream",
     "text": [
      "2\n",
      "4\n",
      "6\n",
      "8\n",
      "10\n"
     ]
    }
   ],
   "source": [
    "# extrect even number\n",
    "current_number:int = 0\n",
    "while current_number<11:\n",
    "    current_number +=1\n",
    "    if(current_number%2!=0):\n",
    "        continue\n",
    "    print(current_number)"
   ]
  },
  {
   "cell_type": "code",
   "execution_count": 67,
   "metadata": {},
   "outputs": [
    {
     "name": "stdout",
     "output_type": "stream",
     "text": [
      "1\n",
      "3\n",
      "5\n",
      "7\n",
      "9\n",
      "11\n"
     ]
    }
   ],
   "source": [
    "# extrect odd number\n",
    "current_number:int = 0\n",
    "while current_number<11:\n",
    "    current_number +=1\n",
    "    if(current_number%2==0):\n",
    "        continue\n",
    "    print(current_number)"
   ]
  },
  {
   "cell_type": "code",
   "execution_count": 53,
   "metadata": {},
   "outputs": [],
   "source": [
    "# pass statement\n",
    "for i in range(1,11):\n",
    "    pass # body will define later on\n",
    "    \n",
    "    "
   ]
  },
  {
   "cell_type": "code",
   "execution_count": 55,
   "metadata": {},
   "outputs": [],
   "source": [
    "# pass statement\n",
    "n=3\n",
    "while n>3:\n",
    "    pass # body will define later on\n",
    "    "
   ]
  },
  {
   "cell_type": "code",
   "execution_count": 57,
   "metadata": {},
   "outputs": [
    {
     "name": "stdout",
     "output_type": "stream",
     "text": [
      "pakistan\n",
      "Zindadbad\n"
     ]
    }
   ],
   "source": [
    "# pass statement\n",
    "if True:\n",
    "    pass\n",
    "\n",
    "print(\"pakistan\")\n",
    "print(\"Zindadbad\")\n",
    "    "
   ]
  }
 ],
 "metadata": {
  "kernelspec": {
   "display_name": "Python 3",
   "language": "python",
   "name": "python3"
  },
  "language_info": {
   "codemirror_mode": {
    "name": "ipython",
    "version": 3
   },
   "file_extension": ".py",
   "mimetype": "text/x-python",
   "name": "python",
   "nbconvert_exporter": "python",
   "pygments_lexer": "ipython3",
   "version": "3.12.3"
  }
 },
 "nbformat": 4,
 "nbformat_minor": 2
}
